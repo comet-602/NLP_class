{
 "cells": [
  {
   "cell_type": "code",
   "execution_count": 20,
   "id": "olympic-disabled",
   "metadata": {},
   "outputs": [],
   "source": [
    "import torch\n",
    "import numpy as np"
   ]
  },
  {
   "cell_type": "markdown",
   "id": "pregnant-arlington",
   "metadata": {},
   "source": [
    "### 建立張量"
   ]
  },
  {
   "cell_type": "code",
   "execution_count": 6,
   "id": "fatty-argument",
   "metadata": {},
   "outputs": [
    {
     "name": "stdout",
     "output_type": "stream",
     "text": [
      "torch.Size([])\n"
     ]
    },
    {
     "data": {
      "text/plain": [
       "tensor(1, dtype=torch.int16)"
      ]
     },
     "execution_count": 6,
     "metadata": {},
     "output_type": "execute_result"
    }
   ],
   "source": [
    "# 0維tensor (scalar)\n",
    "t1 = torch.tensor(1, dtype=torch.int16)\n",
    "print(t1.shape)\n",
    "t1"
   ]
  },
  {
   "cell_type": "code",
   "execution_count": 7,
   "id": "serial-rebound",
   "metadata": {},
   "outputs": [
    {
     "name": "stdout",
     "output_type": "stream",
     "text": [
      "torch.Size([3])\n"
     ]
    },
    {
     "data": {
      "text/plain": [
       "tensor([1., 2., 3.])"
      ]
     },
     "execution_count": 7,
     "metadata": {},
     "output_type": "execute_result"
    }
   ],
   "source": [
    "# 1維tensor (vector)\n",
    "t2 = torch.tensor([1,2,3], dtype=torch.float32)\n",
    "print(t2.shape)\n",
    "t2"
   ]
  },
  {
   "cell_type": "code",
   "execution_count": 9,
   "id": "auburn-thermal",
   "metadata": {},
   "outputs": [
    {
     "name": "stdout",
     "output_type": "stream",
     "text": [
      "torch.Size([2, 3])\n"
     ]
    },
    {
     "data": {
      "text/plain": [
       "tensor([[1., 2., 5.],\n",
       "        [3., 4., 6.]])"
      ]
     },
     "execution_count": 9,
     "metadata": {},
     "output_type": "execute_result"
    }
   ],
   "source": [
    "# 2維tensor (matrix)\n",
    "t3 = torch.tensor([[1.,2,5],[3,4,6]])\n",
    "print(t3.shape)\n",
    "t3"
   ]
  },
  {
   "cell_type": "code",
   "execution_count": 12,
   "id": "awful-workplace",
   "metadata": {},
   "outputs": [
    {
     "name": "stdout",
     "output_type": "stream",
     "text": [
      "torch.Size([2, 2, 3])\n"
     ]
    },
    {
     "data": {
      "text/plain": [
       "tensor([[[1, 2, 3],\n",
       "         [3, 4, 5]],\n",
       "\n",
       "        [[5, 6, 7],\n",
       "         [7, 8, 9]]])"
      ]
     },
     "execution_count": 12,
     "metadata": {},
     "output_type": "execute_result"
    }
   ],
   "source": [
    "# 3維tensor (n-dimensional array)\n",
    "t4 = torch.tensor([[[1, 2, 3], [3, 4, 5]],\n",
    "                    [[5, 6, 7], [7, 8 ,9]]])\n",
    "print(t4.shape)\n",
    "t4"
   ]
  },
  {
   "cell_type": "code",
   "execution_count": 13,
   "id": "tired-religious",
   "metadata": {},
   "outputs": [
    {
     "name": "stdout",
     "output_type": "stream",
     "text": [
      "torch.Size([2, 3, 5])\n"
     ]
    },
    {
     "data": {
      "text/plain": [
       "tensor([[[ 0.2466,  0.3399,  0.7305, -2.6814,  1.1299],\n",
       "         [ 0.8867,  1.4444,  0.3206, -1.3668, -0.3943],\n",
       "         [-1.1321, -0.2890,  0.8228,  0.5166, -0.3175]],\n",
       "\n",
       "        [[ 0.5961, -0.2819,  0.7204, -1.1988,  0.2252],\n",
       "         [ 0.3511, -0.8501,  0.5614, -1.3559,  0.1657],\n",
       "         [-1.3626, -2.8064,  0.6248,  0.4954,  1.1117]]])"
      ]
     },
     "execution_count": 13,
     "metadata": {},
     "output_type": "execute_result"
    }
   ],
   "source": [
    "# torch.randn: 由平均值為0，標準差為1的常態分佈中，抽樣元素組成給定形狀的張量\n",
    "t5 = torch.randn((2,3,5))\n",
    "print(t5.shape)\n",
    "t5"
   ]
  },
  {
   "cell_type": "code",
   "execution_count": 14,
   "id": "informative-vertex",
   "metadata": {},
   "outputs": [
    {
     "name": "stdout",
     "output_type": "stream",
     "text": [
      "torch.Size([3, 2])\n"
     ]
    },
    {
     "data": {
      "text/plain": [
       "tensor([[8, 4],\n",
       "        [3, 3],\n",
       "        [9, 1]])"
      ]
     },
     "execution_count": 14,
     "metadata": {},
     "output_type": "execute_result"
    }
   ],
   "source": [
    "# torch.randint: 在給定的上下界(預設下界為0)中抽樣\"整數\"元素組成給定形狀的張量\n",
    "t6 = torch.randint(low=0, high=10, size=(3,2))\n",
    "print(t6.shape)\n",
    "t6"
   ]
  },
  {
   "cell_type": "code",
   "execution_count": 15,
   "id": "dressed-compromise",
   "metadata": {},
   "outputs": [
    {
     "name": "stdout",
     "output_type": "stream",
     "text": [
      "torch.Size([2, 3])\n"
     ]
    },
    {
     "data": {
      "text/plain": [
       "tensor([[1., 1., 1.],\n",
       "        [1., 1., 1.]])"
      ]
     },
     "execution_count": 15,
     "metadata": {},
     "output_type": "execute_result"
    }
   ],
   "source": [
    "# torch.ones: 產生給定形狀，元素全為1的張量\n",
    "t7 = torch.ones((2,3))\n",
    "print(t7.shape)\n",
    "t7"
   ]
  },
  {
   "cell_type": "code",
   "execution_count": 16,
   "id": "rolled-ebony",
   "metadata": {},
   "outputs": [
    {
     "name": "stdout",
     "output_type": "stream",
     "text": [
      "torch.Size([3, 2])\n"
     ]
    },
    {
     "data": {
      "text/plain": [
       "tensor([[1, 1],\n",
       "        [1, 1],\n",
       "        [1, 1]])"
      ]
     },
     "execution_count": 16,
     "metadata": {},
     "output_type": "execute_result"
    }
   ],
   "source": [
    "# torch.ones_like: 產生與給定張量相同形狀，但元素全為1的張量\n",
    "t8 = torch.ones_like(t6)\n",
    "print(t8.shape)\n",
    "t8"
   ]
  },
  {
   "cell_type": "markdown",
   "id": "missing-board",
   "metadata": {},
   "source": [
    "### 張量與陣列轉換"
   ]
  },
  {
   "cell_type": "code",
   "execution_count": 22,
   "id": "resident-nelson",
   "metadata": {},
   "outputs": [
    {
     "name": "stdout",
     "output_type": "stream",
     "text": [
      "(3, 2)\n"
     ]
    },
    {
     "data": {
      "text/plain": [
       "array([[1., 2.],\n",
       "       [3., 4.],\n",
       "       [5., 6.]])"
      ]
     },
     "execution_count": 22,
     "metadata": {},
     "output_type": "execute_result"
    }
   ],
   "source": [
    "# 產生numpy ndarray\n",
    "x = np.array([[1.,2],[3,4],[5,6]])\n",
    "print(x.shape)\n",
    "x"
   ]
  },
  {
   "cell_type": "code",
   "execution_count": 23,
   "id": "collaborative-franklin",
   "metadata": {},
   "outputs": [
    {
     "name": "stdout",
     "output_type": "stream",
     "text": [
      "torch.Size([3, 2])\n"
     ]
    },
    {
     "data": {
      "text/plain": [
       "tensor([[1., 2.],\n",
       "        [3., 4.],\n",
       "        [5., 6.]], dtype=torch.float64)"
      ]
     },
     "execution_count": 23,
     "metadata": {},
     "output_type": "execute_result"
    }
   ],
   "source": [
    "# 由numpy ndarray產生pytorch tensor\n",
    "y = torch.from_numpy(x)\n",
    "# y = torch.tensor(x) 也可以達到同樣效果\n",
    "print(y.shape)\n",
    "y"
   ]
  },
  {
   "cell_type": "code",
   "execution_count": 24,
   "id": "academic-court",
   "metadata": {},
   "outputs": [
    {
     "data": {
      "text/plain": [
       "(dtype('float64'), torch.float64)"
      ]
     },
     "execution_count": 24,
     "metadata": {},
     "output_type": "execute_result"
    }
   ],
   "source": [
    "# 檢查array與tensor的資料型態\n",
    "x.dtype, y.dtype"
   ]
  },
  {
   "cell_type": "code",
   "execution_count": 25,
   "id": "continental-demonstration",
   "metadata": {},
   "outputs": [
    {
     "name": "stdout",
     "output_type": "stream",
     "text": [
      "(3, 2)\n"
     ]
    },
    {
     "data": {
      "text/plain": [
       "array([[1., 2.],\n",
       "       [3., 4.],\n",
       "       [5., 6.]])"
      ]
     },
     "execution_count": 25,
     "metadata": {},
     "output_type": "execute_result"
    }
   ],
   "source": [
    "# 將tensor轉換為array\n",
    "z = y.numpy()\n",
    "print(z.shape)\n",
    "z"
   ]
  },
  {
   "cell_type": "markdown",
   "id": "crucial-christopher",
   "metadata": {},
   "source": [
    "### 張量運算"
   ]
  },
  {
   "cell_type": "code",
   "execution_count": 38,
   "id": "british-graphic",
   "metadata": {},
   "outputs": [
    {
     "name": "stdout",
     "output_type": "stream",
     "text": [
      "torch.Size([2, 2]) torch.Size([2])\n"
     ]
    },
    {
     "data": {
      "text/plain": [
       "(tensor([[1., 2.],\n",
       "         [4., 8.]]),\n",
       " tensor([1., 2.]))"
      ]
     },
     "execution_count": 38,
     "metadata": {},
     "output_type": "execute_result"
    }
   ],
   "source": [
    "# 創建tensor\n",
    "a = torch.tensor([[1,2],[4,8]], dtype=torch.float32)\n",
    "b = torch.tensor([1,2], dtype=torch.float32)\n",
    "print(a.shape,b.shape)\n",
    "a, b"
   ]
  },
  {
   "cell_type": "code",
   "execution_count": 39,
   "id": "imported-globe",
   "metadata": {},
   "outputs": [
    {
     "name": "stdout",
     "output_type": "stream",
     "text": [
      "torch.Size([2, 2]) torch.Size([2, 2])\n"
     ]
    },
    {
     "data": {
      "text/plain": [
       "(tensor([[ 2.,  4.],\n",
       "         [ 5., 10.]]),\n",
       " tensor([[ 2.,  4.],\n",
       "         [ 5., 10.]]))"
      ]
     },
     "execution_count": 39,
     "metadata": {},
     "output_type": "execute_result"
    }
   ],
   "source": [
    "# 相加\n",
    "t_add1 = a + b\n",
    "t_add2 = torch.add(a,b)\n",
    "print(t_add1.shape, t_add2.shape)\n",
    "t_add1, t_add2"
   ]
  },
  {
   "cell_type": "code",
   "execution_count": 40,
   "id": "known-sister",
   "metadata": {},
   "outputs": [
    {
     "name": "stdout",
     "output_type": "stream",
     "text": [
      "torch.Size([2, 2]) torch.Size([2, 2])\n"
     ]
    },
    {
     "data": {
      "text/plain": [
       "(tensor([[0., 0.],\n",
       "         [3., 6.]]),\n",
       " tensor([[0., 0.],\n",
       "         [3., 6.]]))"
      ]
     },
     "execution_count": 40,
     "metadata": {},
     "output_type": "execute_result"
    }
   ],
   "source": [
    "# 相減\n",
    "t_sub1 = a - b\n",
    "t_sub2 = torch.sub(a,b)\n",
    "print(t_sub1.shape, t_sub2.shape)\n",
    "t_sub1, t_sub2"
   ]
  },
  {
   "cell_type": "code",
   "execution_count": 41,
   "id": "outdoor-budget",
   "metadata": {},
   "outputs": [
    {
     "name": "stdout",
     "output_type": "stream",
     "text": [
      "torch.Size([2, 2]) torch.Size([2, 2])\n"
     ]
    },
    {
     "data": {
      "text/plain": [
       "(tensor([[1., 1.],\n",
       "         [4., 4.]]),\n",
       " tensor([[1., 1.],\n",
       "         [4., 4.]]))"
      ]
     },
     "execution_count": 41,
     "metadata": {},
     "output_type": "execute_result"
    }
   ],
   "source": [
    "# 相除\n",
    "t_div1 = a / b\n",
    "t_div2 = torch.div(a,b)\n",
    "print(t_div1.shape, t_div2.shape)\n",
    "t_div1, t_div2"
   ]
  },
  {
   "cell_type": "code",
   "execution_count": 42,
   "id": "psychological-infrared",
   "metadata": {},
   "outputs": [
    {
     "name": "stdout",
     "output_type": "stream",
     "text": [
      "torch.Size([2, 2]) torch.Size([2, 2])\n"
     ]
    },
    {
     "data": {
      "text/plain": [
       "(tensor([[ 1.,  4.],\n",
       "         [ 4., 16.]]),\n",
       " tensor([[ 1.,  4.],\n",
       "         [ 4., 16.]]))"
      ]
     },
     "execution_count": 42,
     "metadata": {},
     "output_type": "execute_result"
    }
   ],
   "source": [
    "# 相乘\n",
    "t_mul1 = a * b\n",
    "t_mul2 = torch.mul(a, b)\n",
    "print(t_mul1.shape, t_mul2.shape)\n",
    "t_mul1, t_mul2"
   ]
  },
  {
   "cell_type": "code",
   "execution_count": 44,
   "id": "distinguished-discussion",
   "metadata": {},
   "outputs": [
    {
     "name": "stdout",
     "output_type": "stream",
     "text": [
      "torch.Size([2, 4]) torch.Size([2, 4]) torch.Size([2, 4]) torch.Size([2, 4])\n"
     ]
    }
   ],
   "source": [
    "# 矩陣乘法\n",
    "c = torch.randn((2,3))\n",
    "d = torch.randn((3,4))\n",
    "\n",
    "t_matmul1 = c.mm(d)\n",
    "t_matmul2 = torch.mm(c,d)\n",
    "t_matmul3 = torch.matmul(c,d)\n",
    "t_matmul4 = c @ d\n",
    "\n",
    "print(t_matmul1.shape, t_matmul2.shape, t_matmul3.shape, t_matmul4.shape)"
   ]
  },
  {
   "cell_type": "markdown",
   "id": "floppy-young",
   "metadata": {},
   "source": [
    "### 張量形狀操作\n",
    "\n",
    "除了對張量進行運算外，針對張量的形狀(shape)進行操作也是一個很重要常用的功能。\n",
    "\n",
    "像是在進行矩陣相乘前，我們可以把形狀不匹配的張量，先改變維度在進行矩陣相乘 (ex：2x3 的形狀改為 3x2 形狀)。"
   ]
  },
  {
   "cell_type": "code",
   "execution_count": 45,
   "id": "accepting-trader",
   "metadata": {},
   "outputs": [
    {
     "name": "stdout",
     "output_type": "stream",
     "text": [
      "torch.Size([2, 2, 3])\n",
      "tensor([[[1, 2, 3],\n",
      "         [3, 4, 5]],\n",
      "\n",
      "        [[5, 6, 7],\n",
      "         [7, 8, 9]]])\n"
     ]
    }
   ],
   "source": [
    "# 創健tensor\n",
    "a = torch.tensor([[[1, 2, 3], [3, 4, 5]],\n",
    "                    [[5, 6, 7], [7, 8, 9]]])\n",
    "print(a.shape)\n",
    "print(a)"
   ]
  },
  {
   "cell_type": "markdown",
   "id": "ranging-tender",
   "metadata": {},
   "source": [
    "#### 1.  改變 tensor 的形狀：\n",
    "\n",
    "reshape 與 view 皆可以用來改變 tensor 的形狀\n",
    "在給定的形狀中，我們可以給 -1，代表這個維度的元素是剩下的所有元素個數"
   ]
  },
  {
   "cell_type": "code",
   "execution_count": 46,
   "id": "african-rebecca",
   "metadata": {},
   "outputs": [
    {
     "name": "stdout",
     "output_type": "stream",
     "text": [
      "torch.Size([2, 6]) torch.Size([2, 6]) torch.Size([2, 6])\n"
     ]
    },
    {
     "data": {
      "text/plain": [
       "(tensor([[1, 2, 3, 3, 4, 5],\n",
       "         [5, 6, 7, 7, 8, 9]]),\n",
       " tensor([[1, 2, 3, 3, 4, 5],\n",
       "         [5, 6, 7, 7, 8, 9]]),\n",
       " tensor([[1, 2, 3, 3, 4, 5],\n",
       "         [5, 6, 7, 7, 8, 9]]))"
      ]
     },
     "execution_count": 46,
     "metadata": {},
     "output_type": "execute_result"
    }
   ],
   "source": [
    "# 將tensor形狀由[2,2,3]改為[2,6]\n",
    "b = a.reshape(2, 6)\n",
    "c = a.view(2, 6)\n",
    "d = a.reshape(2, -1)\n",
    "print(b.shape, c.shape, d.shape)\n",
    "b,c,d"
   ]
  },
  {
   "cell_type": "markdown",
   "id": "artistic-radio",
   "metadata": {},
   "source": [
    "#### 2.  變換 tensor 維度：\n",
    "\n",
    "permute 給定輸出的維度順序，如 (0,2,1) 代表輸出的維度順序是原本張量維度的 0,2,1 順序\n",
    "transpose 將給定維度進行對調，如 (1,2) 將原本的第 1 維與第 2 維進行對調"
   ]
  },
  {
   "cell_type": "code",
   "execution_count": 47,
   "id": "orange-clearing",
   "metadata": {},
   "outputs": [
    {
     "name": "stdout",
     "output_type": "stream",
     "text": [
      "torch.Size([2, 3, 2]) torch.Size([2, 3, 2])\n"
     ]
    },
    {
     "data": {
      "text/plain": [
       "(tensor([[[1, 3],\n",
       "          [2, 4],\n",
       "          [3, 5]],\n",
       " \n",
       "         [[5, 7],\n",
       "          [6, 8],\n",
       "          [7, 9]]]),\n",
       " tensor([[[1, 3],\n",
       "          [2, 4],\n",
       "          [3, 5]],\n",
       " \n",
       "         [[5, 7],\n",
       "          [6, 8],\n",
       "          [7, 9]]]))"
      ]
     },
     "execution_count": 47,
     "metadata": {},
     "output_type": "execute_result"
    }
   ],
   "source": [
    "# 調換tensor維度\n",
    "e = a.permute((0, 2, 1))\n",
    "f = a.transpose(1,2)\n",
    "print(e.shape, f.shape)\n",
    "e, f"
   ]
  },
  {
   "cell_type": "markdown",
   "id": "southeast-installation",
   "metadata": {},
   "source": [
    "#### 3.增加維度\n",
    "\n",
    "unsqueeze 在給定的位置增加維度\n",
    "squeeze 握給定的維度元素數量為 1，則壓縮給定的位置 (若無給定則所有維度為 1 的位置都壓縮)"
   ]
  },
  {
   "cell_type": "code",
   "execution_count": 55,
   "id": "involved-element",
   "metadata": {},
   "outputs": [
    {
     "name": "stdout",
     "output_type": "stream",
     "text": [
      "torch.Size([2, 1, 2, 3]) torch.Size([2, 2, 3])\n"
     ]
    }
   ],
   "source": [
    "# 增加張量維度\n",
    "g = torch.unsqueeze(a, dim=1) #增加維度在1的位置[0,1,2,3]\n",
    "h = torch.squeeze(g) #壓縮為度為1的位置\n",
    "print(g.shape, h.shape)"
   ]
  },
  {
   "cell_type": "code",
   "execution_count": null,
   "id": "quarterly-binding",
   "metadata": {},
   "outputs": [],
   "source": []
  }
 ],
 "metadata": {
  "kernelspec": {
   "display_name": "Python 3",
   "language": "python",
   "name": "python3"
  },
  "language_info": {
   "codemirror_mode": {
    "name": "ipython",
    "version": 3
   },
   "file_extension": ".py",
   "mimetype": "text/x-python",
   "name": "python",
   "nbconvert_exporter": "python",
   "pygments_lexer": "ipython3",
   "version": "3.7.4"
  }
 },
 "nbformat": 4,
 "nbformat_minor": 5
}
