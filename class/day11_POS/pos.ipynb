{
 "cells": [
  {
   "cell_type": "code",
   "execution_count": 1,
   "metadata": {},
   "outputs": [],
   "source": [
    "import jieba\n",
    "import nltk"
   ]
  },
  {
   "cell_type": "code",
   "execution_count": 2,
   "metadata": {},
   "outputs": [
    {
     "name": "stderr",
     "output_type": "stream",
     "text": [
      "Building prefix dict from the default dictionary ...\n",
      "Loading model from cache C:\\Users\\Planer\\AppData\\Local\\Temp\\jieba.cache\n",
      "Loading model cost 0.651 seconds.\n",
      "Prefix dict has been built successfully.\n"
     ]
    },
    {
     "name": "stdout",
     "output_type": "stream",
     "text": [
      "output 精確模式: Python|是|一|種|廣|泛|使用|的|直|譯|式|、|進|階|程式|、|通用型|程式|語|言\n",
      "output 全模式: Python|是|一|種|廣|泛|使用|的|直|譯|式|、|進|階|程式|、|通用|通用型|程式|語|言\n"
     ]
    }
   ],
   "source": [
    "# jieba 斷句\n",
    "\n",
    "sentence_1 = \"我愛寫程式\"\n",
    "sentence_2 = \"Python是一種廣泛使用的直譯式、進階程式、通用型程式語言\"\n",
    "print(\"output 精確模式: {}\".format('|'.join(jieba.cut(sentence_2, cut_all=False, HMM=False))))\n",
    "print(\"output 全模式: {}\".format('|'.join(jieba.cut(sentence_2, cut_all=True, HMM=False))))"
   ]
  },
  {
   "cell_type": "code",
   "execution_count": 3,
   "metadata": {},
   "outputs": [
    {
     "name": "stdout",
     "output_type": "stream",
     "text": [
      "output 精確模式: 精通|各|種|程式|語|言|是|一件|相|當|困|難|的|事情\n",
      "output 精確模式: 精通|各|種|程式語言|是|一件|相|當|困|難|的|事情\n",
      "output 精確模式: 精通|各|種|程式語言|是|一件|相|當|困|難|的|事情\n"
     ]
    }
   ],
   "source": [
    "# jieba 新增單詞\n",
    "\n",
    "sentence_1 = \"精通各種程式語言是一件相當困難的事情\"\n",
    "print(\"output 精確模式: {}\".format('|'.join(jieba.cut(sentence_1, cut_all=False, HMM=False))))\n",
    "jieba.add_word('程式語言')\n",
    "print(\"output 精確模式: {}\".format('|'.join(jieba.cut(sentence_1, cut_all=False, HMM=False))))\n",
    "print(\"output 精確模式: {}\".format('|'.join(jieba.cut(sentence_1, cut_all=False, HMM=False))))"
   ]
  },
  {
   "cell_type": "code",
   "execution_count": 4,
   "metadata": {},
   "outputs": [
    {
     "name": "stdout",
     "output_type": "stream",
     "text": [
      "output 精確模式: 我|在|Cupoy|平台|上|學|習|自然|語|言|處|理\n",
      "output 精確模式: 我|在|Cupoy平台|上|學|習|自然語言處理\n"
     ]
    }
   ],
   "source": [
    "## 新增單詞 ，格式：每行包含一個單詞 詞頻(可省略) 詞性(可省略)\n",
    "\n",
    "new_words = '程式語言\\nCupoy平台\\n自然語言處理'\n",
    "with open('new_words.txt', 'w', encoding='utf8') as file:\n",
    "    file.write(new_words)\n",
    "sentence_1 = \"我在Cupoy平台上學習自然語言處理\"\n",
    "print(\"output 精確模式: {}\".format('|'.join(jieba.cut(sentence_1, cut_all=False, HMM=False))))\n",
    "## 讀入字典\n",
    "jieba.load_userdict('new_words.txt')\n",
    "sentence_1 = \"我在Cupoy平台上學習自然語言處理\"\n",
    "print(\"output 精確模式: {}\".format('|'.join(jieba.cut(sentence_1, cut_all=False, HMM=False))))\n"
   ]
  },
  {
   "cell_type": "code",
   "execution_count": 5,
   "metadata": {},
   "outputs": [
    {
     "name": "stdout",
     "output_type": "stream",
     "text": [
      "word: Python,        start:0, end:6\n",
      "word: 是,        start:6, end:7\n",
      "word: 一個,        start:7, end:9\n",
      "word: 廣泛,        start:9, end:11\n",
      "word: 使用,        start:11, end:13\n",
      "word: 的,        start:13, end:14\n",
      "word: 直譯式,        start:14, end:17\n",
      "word: 、,        start:17, end:18\n",
      "word: 進階,        start:18, end:20\n",
      "word: 程式,        start:20, end:22\n",
      "word: 、,        start:22, end:23\n",
      "word: 通用型,        start:23, end:26\n",
      "word: 程式語言,        start:26, end:30\n"
     ]
    }
   ],
   "source": [
    "# tokenize 取出斷詞位置\n",
    "\n",
    "sentence_2 = \"Python是一個廣泛使用的直譯式、進階程式、通用型程式語言\"\n",
    "words = jieba.tokenize(sentence_2,)\n",
    "for tk in words:\n",
    "    print(\"word: {},        start:{}, end:{}\".format(tk[0],tk[1],tk[2]))"
   ]
  },
  {
   "cell_type": "code",
   "execution_count": 6,
   "metadata": {},
   "outputs": [
    {
     "name": "stdout",
     "output_type": "stream",
     "text": [
      "Python eng\n",
      "是 v\n",
      "一種 m\n",
      "廣泛 a\n",
      "使用 v\n",
      "的 uj\n",
      "直譯式 n\n",
      "、 x\n",
      "進階 n\n",
      "程式 n\n",
      "、 x\n",
      "通用型 n\n",
      "程式語言 x\n"
     ]
    }
   ],
   "source": [
    "import jieba.posseg as pseg\n",
    "sentence_2 = \"Python是一種廣泛使用的直譯式、進階程式、通用型程式語言\"\n",
    "words = pseg.cut(sentence_2,)\n",
    "## 對應詞性可在此網頁查詢：https://www.cnblogs.com/chenbjin/p/4341930.html\n",
    "for word, flag in words:\n",
    "    print(word, flag)"
   ]
  },
  {
   "cell_type": "code",
   "execution_count": null,
   "metadata": {},
   "outputs": [],
   "source": []
  }
 ],
 "metadata": {
  "kernelspec": {
   "display_name": "Python 3",
   "language": "python",
   "name": "python3"
  },
  "language_info": {
   "codemirror_mode": {
    "name": "ipython",
    "version": 3
   },
   "file_extension": ".py",
   "mimetype": "text/x-python",
   "name": "python",
   "nbconvert_exporter": "python",
   "pygments_lexer": "ipython3",
   "version": "3.7.4"
  }
 },
 "nbformat": 4,
 "nbformat_minor": 4
}
