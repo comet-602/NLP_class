{
 "cells": [
  {
   "cell_type": "code",
   "execution_count": 1,
   "metadata": {},
   "outputs": [],
   "source": [
    "# 使用三連詞 trigrams 練習簡易文件產生器\n",
    "from __future__ import print_function, division\n",
    "from future.utils import iteritems\n",
    "from builtins import range\n",
    "\n",
    "\n",
    "\n",
    "import nltk\n",
    "import random\n",
    "import numpy as np\n",
    "\n",
    "from bs4 import BeautifulSoup"
   ]
  },
  {
   "cell_type": "code",
   "execution_count": 4,
   "metadata": {},
   "outputs": [],
   "source": [
    "# load the reviews\n",
    "positive_reviews = BeautifulSoup(open('positive.review', encoding='ISO-8859-1').read(), \"html.parser\")\n",
    "positive_reviews = positive_reviews.findAll('review_text')"
   ]
  },
  {
   "cell_type": "code",
   "execution_count": 5,
   "metadata": {},
   "outputs": [
    {
     "name": "stdout",
     "output_type": "stream",
     "text": [
      "Original: \n",
      "as you may already know, this is an accessory handset which will only work if you have one of these panasonic models: kx-tg2700/kx-tg2720, kx-tg2730/kx-tg2740. \n",
      "\n",
      "the panasonic kx-tga271v, does not need (or use) a telephone jack. it simply plugs into any standard electrical socket and works off the base unit with one of the models mentioned above.\n",
      "\n",
      "this phone was also very easy to register. (it had to be charged for about 2 hours before it could be registered...) i simply had to press the \"mute\" button on my base unit and then press the \"play\" button on the phone (the registration directions were even displayed on the lcd display on the phone!) please know that i did find the panasonic instaltion manual/registration directions to be a little confusing.\n",
      "\n",
      "some features that are not mentioned in this description which are included are: finger grips/ergonomic sizing on the sides of the phone, the opportunity to play your answering machine messages off this phone (the base unit to the kx-tg2730 has a digital answering machine, and i suspect the other panasonic models do as well) ---- this was the main reason why i purchased this phone, yes the kx-tga271v will play your answering machine messages off this phone through the speaker on the back of it!!!, a separate \"call waiting\" dedicated button is also included.\n",
      "\n",
      "also, this phone will use any standard headset, it does not need a panasonic branded headset. this was very important for me because i ofen use a headset and i do not want to purchase another one. i have since learned that all cordless phone headsets can be used on any type of cordless phone! \n",
      "\n",
      "please know that the batteries on this phone are not interchangeable with the kx-tg2730 system (that is the model that i have.) also, the kx-tg2730 phone can't be charged in this charger, and vice versa. that is (likely) because the kx-tga271v phone is slightly smaller and weighs less. \n",
      "\n",
      "the face of the phone is white with a purple trim. the back of the phone is also purple on the bottom and white on the top half. the \"white\" in the phone is sort of a shiny metalic white, and the \"purple\" is not shiny at all. some of the buttons are also slightly smaller than the buttons on the kx-tg2730 model. and the lcd screen is not flat, it is indented slightly, and bordered in silver. \n",
      "\n",
      "i purchased this phone from an amazon.com merchant and am very pleased with it. i noticed that another amazon.com merchant is selling the same phone that i purchased for less ($30.), however that merchant has horrific feedback and i was only too glad to pay a little extra for the confidence of knowing that i would receive a phone in a timely manner that would work! \n",
      "\n",
      "panasonic makes very good phones. the only (big) problem is the battery life. the batteries often die after less than 90 minutes. i have solved this problem by purchasing a second set of batteries. however, this is still not a perfect solution. so, i had to purchase another set of cordless phones (uniden.) i now keep two phones in each of the rooms that i had each of the panasonic phones, and so far have not run in to any problems. i hope panasonic will offer batteries with longer lives soon.\n",
      "\n",
      "all in all this is an excellent phone. i hope the extra details that i provided will help a prospective buyer make the right decision. amazon.com rarely provides specific details to these types of questions (does amazon.com only employ braindead dimwits?) and the panasonic website does not offer this info\n",
      "\n",
      "Spun:\n",
      "as you're already know, this is an accessory handset which will only work if you have one of these panasonic models : kx-tg2700/kx-tg2720, kx-tg2730/kx-tg2740. the panasonic kx-tga271v, but not need ( or other ) a telephone jack. it simply plugs into any standard electrical socket and works off the base unit with one of the models mentioned above. this phone was also very easy to register. ( or had to be charged for about 2 hours before it would be registered... ) i simply had to press the `` mute'' label on the base unit and then installing the `` play'' button on the phone ( the registration directions were even play on the lcd display. the phone! ) please know that i could find the panasonic instaltion manual/registration directions to be a little confusing. some features that's not mentioned in this description which are included are : finger grips/ergonomic sizing on the sides of cordless phone, the opportunity to play your answering machine messages off this regard ( the base adapters to the kx-tg2730 has a digital answering machine. after i skipped the latest panasonic models do as well ) -- -- this was the main reason why i purchased this phone. yes the kx-tga271v will play your answering machine messages off this phone through the speaker on the back of course!! ), a separate `` call waiting'' dedicated button is also included. also used this phone will use any standard headset, it does not need a panasonic branded headset. this is very important for me. i even use a headset and i do not want to purchase another one. i have since learned that all cordless phone headsets can be printed on any type of the phone! please know that the batteries on the phone are not interchangeable with the kx-tg2730 system ( that is the model. i have. ) second, the kx-tg2730 phone ca n't be charged in this charger, and vice versa. it is ( likely ) because the kx-tga271v phone is slightly smaller and weighs less. the availability of the phone is white with a purple trim. the back of the phone is also purple on the bottom and white on the top half. the `` white earbuds in the phone is made of a shiny metalic white, and the `` purple'' does not shiny at all. some of the buttons are also slightly smaller than the leds on the kx-tg2730 model. and the lcd screen is not flat, it is indented slightly brighter and bordered in silver. i purchased this phone from an amazon.com merchant and running very satisfied with it. i noticed that another amazon.com merchant is selling the same show that i purchased for less ( $30. ), perhaps that merchant has horrific feedback and i was only too glad to pay a little extra for the palm of knowing that i would receive a phone in a timely manner that would work! panasonic makes a good phones. the only ( big ) speed is the battery issues. the batteries often die after less than 90 minutes. i have solved this problem by purchasing a second set of batteries. however, this is still not a perfect solution. so, i had to purchase another set of cordless phones ( uniden. ) i now keep two phones in each of the rooms that i had years of the panasonic phones, and so far have always run in to any problems. i hope panasonic will offer batteries with longer lives soon. all in all this is an excellent value. i hope the extra details that i provided will help a prospective buyer make the right decision. amazon.com rarely provides specific details to these types of questions ( does amazon.com only employ braindead dimwits ? ) and the panasonic website does not offer this info\n"
     ]
    }
   ],
   "source": [
    "# 提出 三連詞 並置入字典\n",
    "# (w1, w3) 當作 key, [ w2 ] 當作值\n",
    "trigrams = {}\n",
    "for review in positive_reviews:\n",
    "    s = review.text.lower()\n",
    "    tokens = nltk.tokenize.word_tokenize(s)\n",
    "    for i in range(len(tokens) - 2):\n",
    "        k = (tokens[i], tokens[i+2])\n",
    "        if k not in trigrams:\n",
    "            trigrams[k] = []\n",
    "        trigrams[k].append(tokens[i+1])\n",
    "\n",
    "# 將中間字矩陣變成或然率向量\n",
    "trigram_probabilities = {}\n",
    "for k, words in iteritems(trigrams):\n",
    "    # 產生一個  word -> count 字典\n",
    "    if len(set(words)) > 1:\n",
    "        # 如果中間字middle word不只有一個機率 \n",
    "        d = {}\n",
    "        n = 0\n",
    "        for w in words:\n",
    "            if w not in d:\n",
    "                d[w] = 0\n",
    "            d[w] += 1\n",
    "            n += 1\n",
    "        for w, c in iteritems(d):\n",
    "            d[w] = float(c) / n\n",
    "        trigram_probabilities[k] = d\n",
    "\n",
    "\n",
    "def random_sample(d):\n",
    "    # 從字典隨機選出一個帶機率值的樣本，回傳累積機率值最大的字\n",
    "    r = random.random()\n",
    "    cumulative = 0\n",
    "    for w, p in iteritems(d):\n",
    "        cumulative += p\n",
    "        if r < cumulative:\n",
    "            return w\n",
    "\n",
    "\n",
    "def test_spinner():\n",
    "    review = random.choice(positive_reviews)\n",
    "    s = review.text.lower()\n",
    "    print(\"Original:\", s)\n",
    "    tokens = nltk.tokenize.word_tokenize(s)\n",
    "    for i in range(len(tokens) - 2):\n",
    "        if random.random() < 0.2: # 20% chance of replacement\n",
    "            k = (tokens[i], tokens[i+2])\n",
    "            if k in trigram_probabilities:\n",
    "                w = random_sample(trigram_probabilities[k])\n",
    "                tokens[i+1] = w\n",
    "    print(\"Spun:\")\n",
    "    print(\" \".join(tokens).replace(\" .\", \".\").replace(\" '\", \"'\").replace(\" ,\", \",\").replace(\"$ \", \"$\").replace(\" !\", \"!\"))\n",
    "\n",
    "\n",
    "if __name__ == '__main__':\n",
    "    test_spinner()"
   ]
  },
  {
   "cell_type": "code",
   "execution_count": null,
   "metadata": {},
   "outputs": [],
   "source": []
  }
 ],
 "metadata": {
  "kernelspec": {
   "display_name": "Python 3",
   "language": "python",
   "name": "python3"
  },
  "language_info": {
   "codemirror_mode": {
    "name": "ipython",
    "version": 3
   },
   "file_extension": ".py",
   "mimetype": "text/x-python",
   "name": "python",
   "nbconvert_exporter": "python",
   "pygments_lexer": "ipython3",
   "version": "3.7.4"
  }
 },
 "nbformat": 4,
 "nbformat_minor": 4
}
