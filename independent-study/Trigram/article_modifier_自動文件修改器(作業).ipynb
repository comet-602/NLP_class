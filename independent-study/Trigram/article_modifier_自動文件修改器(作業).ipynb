{
 "cells": [
  {
   "cell_type": "code",
   "execution_count": 1,
   "metadata": {},
   "outputs": [],
   "source": [
    "#題目: 將某篇文章以上下文相同，比方三連詞(trigram)方式修改內容\n",
    "#說明：某篇文章中我們可以找出所有的三連詞(trigram)，以及在前字與後字出現時，\n",
    "#按照出現度隨機選出一個字去換掉中間字，這是利用三連詞修改文章內容的最基本作法。\n",
    "#一旦字典的資料結構建立，我們就以某種機率(比方20%)去置換原文，並將置換文與原文印出來\n",
    "\n",
    "#延伸: 可用五連詞或七連詞去取代中間字，可利用三連詞之前兩字去更換第三字，\n",
    "#可增加加詞性的相同性(Parts Of Sentence)提高可讀性，甚至使用 Word2Vec, Glove，或者RNN的\n",
    "\n",
    "#範例程式檔名: article_modifier_自動文件修改器.py。\n",
    "#模組: sklearn, random, numpy, nltk, bs4\n",
    "#輸入檔：./electronics/positive.review\n",
    "#成績：被置換文的合理性與可讀性"
   ]
  },
  {
   "cell_type": "code",
   "execution_count": 2,
   "metadata": {},
   "outputs": [],
   "source": [
    "\n",
    "# 使用三連詞 trigrams 練習簡易文件產生器\n",
    "from __future__ import print_function, division\n",
    "from future.utils import iteritems\n",
    "from builtins import range\n",
    "\n",
    "\n",
    "\n",
    "import nltk\n",
    "import random\n",
    "import numpy as np\n",
    "\n",
    "from bs4 import BeautifulSoup"
   ]
  },
  {
   "cell_type": "code",
   "execution_count": 3,
   "metadata": {},
   "outputs": [],
   "source": [
    "# load the reviews\n",
    "positive_reviews = BeautifulSoup(open('positive.review', encoding='ISO-8859-1').read(), \"html.parser\")\n",
    "positive_reviews = positive_reviews.findAll('review_text')"
   ]
  },
  {
   "cell_type": "code",
   "execution_count": 4,
   "metadata": {},
   "outputs": [
    {
     "name": "stdout",
     "output_type": "stream",
     "text": [
      "Original: \n",
      "this was a breeze to setup, even with wpa2 to ensure privacy.  i also hooked up an xbox360 and it has never failed in since i bought it about 6 month ago.\n",
      "\n",
      "much better value then your average gaming adaptor since it has multiple ports so you can hook up all your gizmos at the entertainment center rather then buying a wireless adaptor for each (i.e. tivo, ps2, etc...)\n",
      "\n",
      "i love it, and for the price, you could not beat it.\n",
      "\n",
      "Spun:\n",
      "this was a breeze to setup, especially with wpa2 to ensure privacy. i also hooked up an xbox360 and it has never comes in, i bought it about 6 month ). much better value then your average gaming adaptor since it has multiple ports so you can hook up on your gizmos at the entertainment center rather then buying a wireless adaptor for each ( i.e. tivo, europe, etc... ) i love it moves and for the price, they could not beat it.\n"
     ]
    }
   ],
   "source": [
    "# 提出 三連詞 並置入字典\n",
    "# (w1, w3) 當作 key, [ w2 ] 當作值\n",
    "trigrams = {}\n",
    "for review in positive_reviews:\n",
    "    s = review.text.lower()\n",
    "    tokens = nltk.tokenize.word_tokenize(s)\n",
    "    for i in range(len(tokens) - 2):\n",
    "        k = (tokens[i], tokens[i+2])\n",
    "        if k not in trigrams:\n",
    "            trigrams[k] = []\n",
    "        trigrams[k].append(tokens[i+1])\n",
    "\n",
    "# 將中間字矩陣變成或然率向量\n",
    "trigram_probabilities = {}\n",
    "for k, words in iteritems(trigrams):\n",
    "    # 產生一個  word -> count 字典\n",
    "    if len(set(words)) > 1:\n",
    "        # 如果中間字middle word不只有一個機率 \n",
    "        d = {}\n",
    "        n = 0\n",
    "        for w in words:\n",
    "            if w not in d:\n",
    "                d[w] = 0\n",
    "            d[w] += 1\n",
    "            n += 1\n",
    "        for w, c in iteritems(d):\n",
    "            d[w] = float(c) / n\n",
    "        trigram_probabilities[k] = d\n",
    "\n",
    "\n",
    "def random_sample(d):\n",
    "    # 從字典隨機選出一個帶機率值的樣本，回傳累積機率值最大的字\n",
    "    r = random.random()\n",
    "    cumulative = 0\n",
    "    for w, p in iteritems(d):\n",
    "        cumulative += p\n",
    "        if r < cumulative:\n",
    "            return w\n",
    "\n",
    "\n",
    "def test_spinner():\n",
    "    review = random.choice(positive_reviews)\n",
    "    s = review.text.lower()\n",
    "    print(\"Original:\", s)\n",
    "    tokens = nltk.tokenize.word_tokenize(s)\n",
    "    for i in range(len(tokens) - 2):\n",
    "        if random.random() < 0.2: # 20% chance of replacement\n",
    "            k = (tokens[i], tokens[i+2])\n",
    "            if k in trigram_probabilities:\n",
    "                w = random_sample(trigram_probabilities[k])\n",
    "                tokens[i+1] = w\n",
    "    print(\"Spun:\")\n",
    "    print(\" \".join(tokens).replace(\" .\", \".\").replace(\" '\", \"'\").replace(\" ,\", \",\").replace(\"$ \", \"$\").replace(\" !\", \"!\"))\n",
    "\n",
    "\n",
    "if __name__ == '__main__':\n",
    "    test_spinner()"
   ]
  },
  {
   "cell_type": "code",
   "execution_count": null,
   "metadata": {},
   "outputs": [],
   "source": []
  }
 ],
 "metadata": {
  "kernelspec": {
   "display_name": "Python 3",
   "language": "python",
   "name": "python3"
  },
  "language_info": {
   "codemirror_mode": {
    "name": "ipython",
    "version": 3
   },
   "file_extension": ".py",
   "mimetype": "text/x-python",
   "name": "python",
   "nbconvert_exporter": "python",
   "pygments_lexer": "ipython3",
   "version": "3.7.4"
  }
 },
 "nbformat": 4,
 "nbformat_minor": 4
}
